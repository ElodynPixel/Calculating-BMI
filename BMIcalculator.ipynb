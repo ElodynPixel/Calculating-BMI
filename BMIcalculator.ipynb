{
  "nbformat": 4,
  "nbformat_minor": 0,
  "metadata": {
    "colab": {
      "name": "BMIcalculator",
      "provenance": [],
      "collapsed_sections": [],
      "authorship_tag": "ABX9TyNOb4ELSZ+dAAzwCmo9fNOY",
      "include_colab_link": true
    },
    "kernelspec": {
      "name": "python3",
      "display_name": "Python 3"
    },
    "language_info": {
      "name": "python"
    }
  },
  "cells": [
    {
      "cell_type": "markdown",
      "metadata": {
        "id": "view-in-github",
        "colab_type": "text"
      },
      "source": [
        "<a href=\"https://colab.research.google.com/github/ElodynPixel/Calculating-BMI/blob/main/BMIcalculator.ipynb\" target=\"_parent\"><img src=\"https://colab.research.google.com/assets/colab-badge.svg\" alt=\"Open In Colab\"/></a>"
      ]
    },
    {
      "cell_type": "code",
      "metadata": {
        "id": "uVWWDxQILpws"
      },
      "source": [
        "height = float(input(\"enter height in meter: \"))\n",
        "weight = float(input(\"enter weight in kilograms: \"))\n",
        "\n",
        "\n",
        "\n",
        "def BMI(height, weight):\n",
        "    bmi = weight/(height**2) \n",
        "    if (bmi < 16 ):\n",
        "      return \"severly underweight\", bmi\n",
        "\n",
        "    elif (bmi >= 16 and bmi < 18.5):\n",
        "        return \"underweight\", bmi\n",
        "\n",
        "    elif (bmi >= 18.5 and bmi < 25):\n",
        "        return \"healthy\", bmi\n",
        "\n",
        "    elif (bmi >= 25 and bmi < 30):\n",
        "        return \"overweight\", bmi\n",
        "\n",
        "    elif (bmi >= 30):\n",
        "        return \"obese\", bmi\n",
        "\n",
        "\n",
        "quote, bmi = BMI(height, weight)\n",
        "print(\"your bmi is: {} and you are: {}\".format(bmi, quote))"
      ],
      "execution_count": null,
      "outputs": []
    }
  ]
}